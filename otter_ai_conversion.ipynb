{
  "nbformat": 4,
  "nbformat_minor": 0,
  "metadata": {
    "colab": {
      "provenance": [],
      "authorship_tag": "ABX9TyPnTQ+WbdNkcmLGyUV78ZYP",
      "include_colab_link": true
    },
    "kernelspec": {
      "name": "python3",
      "display_name": "Python 3"
    },
    "language_info": {
      "name": "python"
    }
  },
  "cells": [
    {
      "cell_type": "markdown",
      "metadata": {
        "id": "view-in-github",
        "colab_type": "text"
      },
      "source": [
        "<a href=\"https://colab.research.google.com/github/tanyaclement/audio-class/blob/main/otter_ai_conversion.ipynb\" target=\"_parent\"><img src=\"https://colab.research.google.com/assets/colab-badge.svg\" alt=\"Open In Colab\"/></a>"
      ]
    },
    {
      "cell_type": "code",
      "execution_count": 2,
      "metadata": {
        "id": "8LOy-qoRtEY1"
      },
      "outputs": [],
      "source": [
        "import re\n",
        "\n",
        "def convert_to_tab_delimited(input_file, output_file):\n",
        "    with open(input_file, 'r') as infile, open(output_file, 'w') as outfile:\n",
        "        # Write the column headers first\n",
        "        outfile.write(\"Start\\tEnd\\tAnnotation\\tTags\\n\")\n",
        "\n",
        "        speaker = None  # Initialize speaker as None\n",
        "\n",
        "        for line in infile:\n",
        "            # Match lines with the speaker and timestamp\n",
        "            match = re.match(r'(Speaker \\d+)\\s+(\\d+:\\d+)', line.strip())\n",
        "            if match:\n",
        "                speaker = match.group(1)\n",
        "                timestamp = match.group(2)\n",
        "            elif speaker:  # If we already have a speaker\n",
        "                # Write the formatted line with the updated column order\n",
        "                # Column 1: Timestamp as Start, Column 2: Timestamp as End, Column 3: Transcript, Column 4: Speaker Name as Tags\n",
        "                outfile.write(f\"{timestamp}\\t{timestamp}\\t{line.strip()}\\t{speaker}\\n\")\n",
        "                speaker = None  # Reset speaker after writing the transcript\n",
        "\n",
        "# Example usage:\n",
        "input_file = '/content/aw1_otter_ai.txt'  # Replace with your actual input file path\n",
        "output_file = 'output.txt'  # Replace with your desired output file path\n",
        "convert_to_tab_delimited(input_file, output_file)"
      ]
    }
  ]
}